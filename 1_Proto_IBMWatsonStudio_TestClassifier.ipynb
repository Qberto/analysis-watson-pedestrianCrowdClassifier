{
 "cells": [
  {
   "cell_type": "markdown",
   "metadata": {},
   "source": [
    "# Test Watson Classifiers\n",
    "\n",
    "###### Author: Alberto Nieto\n",
    "###### Organization: Esri\n",
    "###### Date: June, 2017"
   ]
  },
  {
   "cell_type": "markdown",
   "metadata": {},
   "source": [
    "# Pseudocode"
   ]
  },
  {
   "cell_type": "markdown",
   "metadata": {},
   "source": [
    "Goal: To run Watson classifiers on a few test images to validate that the classifiers are functioning.\n",
    "\n",
    "Procedure:\n",
    "1. Authenticate\n",
    "2. Retrieve models\n",
    "3. Pass sample images to models\n",
    "4. Confirm classification returned is nominal"
   ]
  },
  {
   "cell_type": "markdown",
   "metadata": {},
   "source": [
    "# 1. Preparation and Authenticate"
   ]
  },
  {
   "cell_type": "code",
   "execution_count": null,
   "metadata": {
    "collapsed": true
   },
   "outputs": [],
   "source": [
    "import os\n",
    "from watson_developer_cloud import VisualRecognitionV3\n",
    "import json\n",
    "from IPython.display import Image\n",
    "from IPython.core.display import HTML "
   ]
  },
  {
   "cell_type": "code",
   "execution_count": null,
   "metadata": {
    "collapsed": true
   },
   "outputs": [],
   "source": [
    "visual_recognition = VisualRecognitionV3(\n",
    "    '2018-03-19',\n",
    "    iam_api_key=os.environ['BLUEMIX_API_KEY'])"
   ]
  },
  {
   "cell_type": "markdown",
   "metadata": {},
   "source": [
    "# 2. Retrieve Models"
   ]
  },
  {
   "cell_type": "code",
   "execution_count": null,
   "metadata": {},
   "outputs": [],
   "source": [
    "visual_recognition.list_classifiers(verbose=True)"
   ]
  },
  {
   "cell_type": "code",
   "execution_count": null,
   "metadata": {
    "collapsed": true
   },
   "outputs": [],
   "source": [
    "classifier_name = 'Esri_Classification_CobbCounty_Cam128'"
   ]
  },
  {
   "cell_type": "code",
   "execution_count": null,
   "metadata": {},
   "outputs": [],
   "source": [
    "classifier_id = None\n",
    "\n",
    "for classifier in visual_recognition.list_classifiers()['classifiers']:    \n",
    "    if classifier['name'] == classifier_name:\n",
    "        classifier_id = classifier['classifier_id']\n",
    "\n",
    "print(classifier_id)"
   ]
  },
  {
   "cell_type": "markdown",
   "metadata": {},
   "source": [
    "# 3. Pass sample images to models \n",
    "# +\n",
    "# 4. Confirm classification returned is nominal"
   ]
  },
  {
   "cell_type": "code",
   "execution_count": null,
   "metadata": {
    "collapsed": true
   },
   "outputs": [],
   "source": [
    "test_images_dir = \"{0}\\\\TestData\\\\128\".format(os.getcwd())\n",
    "high_dir = \"{0}\\\\{1}\".format(test_images_dir, \"High\")\n",
    "med_dir = \"{0}\\\\{1}\".format(test_images_dir, \"Medium\")\n",
    "low_dir = \"{0}\\\\{1}\".format(test_images_dir, \"Low\")\n",
    "high_img_path = \"{0}\\\\{1}\".format(high_dir, os.listdir(high_dir)[0])\n",
    "med_img_path = \"{0}\\\\{1}\".format(med_dir, os.listdir(med_dir)[0])\n",
    "low_img_path = \"{0}\\\\{1}\".format(low_dir, os.listdir(low_dir)[0])"
   ]
  },
  {
   "cell_type": "markdown",
   "metadata": {},
   "source": [
    "#### Low Pedestrian Density"
   ]
  },
  {
   "cell_type": "code",
   "execution_count": null,
   "metadata": {
    "scrolled": false
   },
   "outputs": [],
   "source": [
    "Image(filename= low_img_path)"
   ]
  },
  {
   "cell_type": "code",
   "execution_count": null,
   "metadata": {},
   "outputs": [],
   "source": [
    "with open(low_img_path, 'rb') as images_file:\n",
    "    classes = visual_recognition.classify(\n",
    "        images_file,\n",
    "        threshold='0.0',\n",
    "        classifier_ids=classifier_id)\n",
    "    print(json.dumps(classes, indent=2))"
   ]
  },
  {
   "cell_type": "markdown",
   "metadata": {},
   "source": [
    "#### Medium Pedestrian Density"
   ]
  },
  {
   "cell_type": "code",
   "execution_count": null,
   "metadata": {
    "scrolled": false
   },
   "outputs": [],
   "source": [
    "Image(filename= med_img_path)"
   ]
  },
  {
   "cell_type": "code",
   "execution_count": null,
   "metadata": {},
   "outputs": [],
   "source": [
    "with open(med_img_path, 'rb') as images_file:\n",
    "    classes = visual_recognition.classify(\n",
    "        images_file,\n",
    "        threshold='0.0',\n",
    "        classifier_ids=classifier_id)\n",
    "    print(json.dumps(classes, indent=2))"
   ]
  },
  {
   "cell_type": "markdown",
   "metadata": {},
   "source": [
    "#### High Pedestrian Density"
   ]
  },
  {
   "cell_type": "code",
   "execution_count": null,
   "metadata": {},
   "outputs": [],
   "source": [
    "Image(filename= high_img_path)"
   ]
  },
  {
   "cell_type": "code",
   "execution_count": null,
   "metadata": {},
   "outputs": [],
   "source": [
    "with open(high_img_path, 'rb') as images_file:\n",
    "    classes = visual_recognition.classify(\n",
    "        images_file,\n",
    "        threshold='0.0',\n",
    "        classifier_ids=classifier_id)\n",
    "    print(json.dumps(classes, indent=2))"
   ]
  },
  {
   "cell_type": "code",
   "execution_count": null,
   "metadata": {
    "collapsed": true
   },
   "outputs": [],
   "source": []
  }
 ],
 "metadata": {
  "kernelspec": {
   "display_name": "Python 3",
   "language": "python",
   "name": "python3"
  },
  "language_info": {
   "codemirror_mode": {
    "name": "ipython",
    "version": 3
   },
   "file_extension": ".py",
   "mimetype": "text/x-python",
   "name": "python",
   "nbconvert_exporter": "python",
   "pygments_lexer": "ipython3",
   "version": "3.6.3"
  }
 },
 "nbformat": 4,
 "nbformat_minor": 2
}
