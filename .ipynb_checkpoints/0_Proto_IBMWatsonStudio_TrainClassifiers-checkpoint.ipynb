{
 "cells": [
  {
   "cell_type": "markdown",
   "metadata": {},
   "source": [
    "# Train Watson Classifiers\n",
    "\n",
    "###### Author: Alberto Nieto\n",
    "###### Organization: Esri\n",
    "###### Date: June, 2017"
   ]
  },
  {
   "cell_type": "markdown",
   "metadata": {},
   "source": [
    "# Pseudocode"
   ]
  },
  {
   "cell_type": "markdown",
   "metadata": {},
   "source": [
    "Goal: To train three classification models for the three cameras to be used in the Cobb County pedestrian management scenario.\n",
    "\n",
    "Procedure:\n",
    "1. Authenticate with Watson Studio\n",
    "2. Establish models\n",
    "3. Query model status"
   ]
  },
  {
   "cell_type": "markdown",
   "metadata": {},
   "source": [
    "# 1. Preparation and Authentication"
   ]
  },
  {
   "cell_type": "code",
   "execution_count": null,
   "metadata": {
    "collapsed": true
   },
   "outputs": [],
   "source": [
    "import os\n",
    "from watson_developer_cloud import VisualRecognitionV3\n",
    "import json\n",
    "from IPython.display import Image\n",
    "from IPython.core.display import HTML "
   ]
  },
  {
   "cell_type": "code",
   "execution_count": null,
   "metadata": {
    "collapsed": true
   },
   "outputs": [],
   "source": [
    "visual_recognition = VisualRecognitionV3(\n",
    "    '2018-03-19',\n",
    "    iam_api_key=os.environ['BLUEMIX_API_KEY'])"
   ]
  },
  {
   "cell_type": "markdown",
   "metadata": {},
   "source": [
    "# 2. Model Training"
   ]
  },
  {
   "cell_type": "code",
   "execution_count": null,
   "metadata": {
    "collapsed": true
   },
   "outputs": [],
   "source": [
    "with open('LabeledData/Cam128/High_128.zip', 'rb') as high128, open(\n",
    "    'LabeledData/Cam128/Medium_128.zip', 'rb') as medium128, open(\n",
    "    'LabeledData/Cam128/Low_128.zip', 'rb') as low128:\n",
    "    model = visual_recognition.create_classifier(\n",
    "        'Esri_Classification_CobbCounty_Cam128',\n",
    "        high_positive_examples=high128,\n",
    "        medium_positive_examples=medium128,\n",
    "        low_positive_examples=low128)\n",
    "print(json.dumps(model, indent=2))"
   ]
  },
  {
   "cell_type": "code",
   "execution_count": null,
   "metadata": {
    "collapsed": true
   },
   "outputs": [],
   "source": [
    "with open('LabeledData/Cam129/High_129.zip', 'rb') as high129, open(\n",
    "    'LabeledData/Cam129/Medium_129.zip', 'rb') as medium129, open(\n",
    "    'LabeledData/Cam129/Low_129.zip', 'rb') as low129:\n",
    "    model129 = visual_recognition.create_classifier(\n",
    "        'Esri_Classification_CobbCounty_Cam129',\n",
    "        high_positive_examples=high129,\n",
    "        medium_positive_examples=medium129,\n",
    "        low_positive_examples=low129)\n",
    "print(json.dumps(model129, indent=2))"
   ]
  },
  {
   "cell_type": "code",
   "execution_count": null,
   "metadata": {
    "collapsed": true
   },
   "outputs": [],
   "source": [
    "with open('LabeledData/Cam130/High_130.zip', 'rb') as high130, open(\n",
    "    'LabeledData/Cam130/Medium_130.zip', 'rb') as medium130, open(\n",
    "    'LabeledData/Cam130/Low_130.zip', 'rb') as low130:\n",
    "    model130 = visual_recognition.create_classifier(\n",
    "        'Esri_Classification_CobbCounty_Cam130',\n",
    "        high_positive_examples=high130,\n",
    "        medium_positive_examples=medium130,\n",
    "        low_positive_examples=low130)\n",
    "print(json.dumps(model130, indent=2))"
   ]
  },
  {
   "cell_type": "markdown",
   "metadata": {},
   "source": [
    "# 3. Model Status"
   ]
  },
  {
   "cell_type": "code",
   "execution_count": null,
   "metadata": {
    "collapsed": true
   },
   "outputs": [],
   "source": [
    "visual_recognition.list_classifiers(verbose=True)"
   ]
  },
  {
   "cell_type": "code",
   "execution_count": null,
   "metadata": {
    "collapsed": true
   },
   "outputs": [],
   "source": []
  }
 ],
 "metadata": {
  "kernelspec": {
   "display_name": "Python 3",
   "language": "python",
   "name": "python3"
  },
  "language_info": {
   "codemirror_mode": {
    "name": "ipython",
    "version": 3
   },
   "file_extension": ".py",
   "mimetype": "text/x-python",
   "name": "python",
   "nbconvert_exporter": "python",
   "pygments_lexer": "ipython3",
   "version": "3.6.3"
  }
 },
 "nbformat": 4,
 "nbformat_minor": 2
}
