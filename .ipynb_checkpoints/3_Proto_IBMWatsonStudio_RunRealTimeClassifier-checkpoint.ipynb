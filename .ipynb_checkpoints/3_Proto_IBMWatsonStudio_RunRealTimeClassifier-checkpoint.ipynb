{
 "cells": [
  {
   "cell_type": "markdown",
   "metadata": {},
   "source": [
    "# Run Watson Classifiers in Real-time Configuration\n",
    "\n",
    "###### Author: Alberto Nieto\n",
    "###### Organization: Esri\n",
    "###### Date: June, 2017"
   ]
  },
  {
   "cell_type": "markdown",
   "metadata": {},
   "source": [
    "# Pseudocode"
   ]
  },
  {
   "cell_type": "markdown",
   "metadata": {},
   "source": [
    "Goal: To run classification on the real-time snapshots provided by Cobb County, storing the outputs on a hosted service. \n",
    "\n",
    "Procedure:\n",
    "\n",
    "1. Routine Setup\n",
    "\n",
    "    1a. Authentication\n",
    "        - IBM Watson\n",
    "        - ArcGIS Online\n",
    "    \n",
    "    1b. Retrieve Models\n",
    "    \n",
    "    1c. Retrieve input images location\n",
    "    \n",
    "    1d. Retrieve target hosted service\n",
    "    \n",
    "2. Set Helper Functions\n",
    "\n",
    "    2a. Get latest snapshot \n",
    "    \n",
    "    2b. Classify Image\n",
    "    \n",
    "    2c. Update hosted service feature\n",
    "    \n",
    "    2d. Add hosted service feature\n",
    "     \n",
    "3. Iteration\n",
    "\n",
    "    For each camera:\n",
    "    \n",
    "        3a. Get latest snapshot\n",
    "\n",
    "        3b. Classify image\n",
    "        \n",
    "        3c. Update/Add feature to service"
   ]
  },
  {
   "cell_type": "markdown",
   "metadata": {},
   "source": [
    "# 1. Routine Setup"
   ]
  },
  {
   "cell_type": "markdown",
   "metadata": {},
   "source": [
    "Imported modules"
   ]
  },
  {
   "cell_type": "code",
   "execution_count": null,
   "metadata": {
    "collapsed": true
   },
   "outputs": [],
   "source": [
    "import os\n",
    "from watson_developer_cloud import VisualRecognitionV3\n",
    "import arcgis\n",
    "import pandas as pd\n",
    "from copy import deepcopy\n",
    "import requests\n",
    "from bs4 import BeautifulSoup\n",
    "import json\n",
    "from IPython.display import Image, display\n",
    "from IPython.core.display import HTML \n",
    "import scipy.misc\n",
    "from datetime import datetime, timedelta\n",
    "import time"
   ]
  },
  {
   "cell_type": "markdown",
   "metadata": {},
   "source": [
    "workspace"
   ]
  },
  {
   "cell_type": "code",
   "execution_count": null,
   "metadata": {
    "collapsed": true
   },
   "outputs": [],
   "source": [
    "workspace_dir = os.getcwd()+\"\\\\Temp\""
   ]
  },
  {
   "cell_type": "markdown",
   "metadata": {},
   "source": [
    "## IBM Watson Authentication"
   ]
  },
  {
   "cell_type": "code",
   "execution_count": null,
   "metadata": {
    "collapsed": true
   },
   "outputs": [],
   "source": [
    "visual_recognition = VisualRecognitionV3(\n",
    "    '2018-03-19',\n",
    "    iam_api_key=os.environ['BLUEMIX_API_KEY'])"
   ]
  },
  {
   "cell_type": "markdown",
   "metadata": {},
   "source": [
    "## ArcGIS Authentication"
   ]
  },
  {
   "cell_type": "code",
   "execution_count": null,
   "metadata": {},
   "outputs": [],
   "source": [
    "gis = arcgis.gis.GIS(os.environ['ESRIFEDERAL_URL'], username=\"Anieto_esrifederal\")"
   ]
  },
  {
   "cell_type": "markdown",
   "metadata": {},
   "source": [
    "## 1b. Retrieve Models"
   ]
  },
  {
   "cell_type": "code",
   "execution_count": null,
   "metadata": {},
   "outputs": [],
   "source": [
    "models_dict = visual_recognition.list_classifiers(verbose=True); models_dict"
   ]
  },
  {
   "cell_type": "code",
   "execution_count": null,
   "metadata": {},
   "outputs": [],
   "source": [
    "models_df = pd.DataFrame.from_dict(models_dict['classifiers']); models_df"
   ]
  },
  {
   "cell_type": "code",
   "execution_count": null,
   "metadata": {
    "collapsed": true
   },
   "outputs": [],
   "source": [
    "model_128_name = 'Esri_Classification_CobbCounty_Cam128'\n",
    "model_129_name = 'Esri_Classification_CobbCounty_Cam129'\n",
    "model_130_name = 'Esri_Classification_CobbCounty_Cam130'"
   ]
  },
  {
   "cell_type": "code",
   "execution_count": null,
   "metadata": {
    "collapsed": true
   },
   "outputs": [],
   "source": [
    "model_128_id = models_df.loc[models_df['name'] == model_128_name, 'classifier_id'].values[0]\n",
    "model_129_id = models_df.loc[models_df['name'] == model_129_name, 'classifier_id'].values[0]\n",
    "model_130_id = models_df.loc[models_df['name'] == model_130_name, 'classifier_id'].values[0]"
   ]
  },
  {
   "cell_type": "code",
   "execution_count": null,
   "metadata": {
    "collapsed": true
   },
   "outputs": [],
   "source": [
    "cameraid_model_dict = {\n",
    "    \"128\": model_128_id,\n",
    "    \"129\": model_129_id,\n",
    "    \"130\": model_130_id\n",
    "}"
   ]
  },
  {
   "cell_type": "markdown",
   "metadata": {},
   "source": [
    "## 1c. Retrieve input images location"
   ]
  },
  {
   "cell_type": "code",
   "execution_count": null,
   "metadata": {},
   "outputs": [],
   "source": [
    "images_url = r\"https://www.cobbgis.org/openimage/bravescam\"\n",
    "cams = [\"128\", \"129\", \"130\"]\n",
    "cam_urls = [\"{0}/Cam{1}\".format(images_url, cam) for cam in cams]; cam_urls"
   ]
  },
  {
   "cell_type": "markdown",
   "metadata": {},
   "source": [
    "## 1d. Retrieve target hosted service"
   ]
  },
  {
   "cell_type": "code",
   "execution_count": null,
   "metadata": {},
   "outputs": [],
   "source": [
    "target_service_name = \"SunTrustPark_TrafficCameras_T01\"\n",
    "# Set schema of target point service\n",
    "label_attribute_name = 'pedestrian_density'\n",
    "camera_id_attribute_name = 'camera_id'\n",
    "source_image_attribute_name = 'source_image'\n",
    "object_point_srvc = gis.content.search(target_service_name, item_type=\"Feature Layer\")[0]\n",
    "object_point_srvc"
   ]
  },
  {
   "cell_type": "markdown",
   "metadata": {},
   "source": [
    "# 2. Set Helper Functions"
   ]
  },
  {
   "cell_type": "markdown",
   "metadata": {},
   "source": [
    "## 2a. Get Latest Snapshot"
   ]
  },
  {
   "cell_type": "code",
   "execution_count": null,
   "metadata": {
    "collapsed": true
   },
   "outputs": [],
   "source": [
    "def get_latest_snapshot(images_webpage_url, workspace):\n",
    "    \n",
    "    \"\"\"\n",
    "    Retrieve the latest image from the Cobb County SunTrust Park images repository, store locally, and return path\n",
    "    :param images_webpage_url: String - Full path to HTTPS url for SunTrust Park images repository\n",
    "    :param workspace: String - Full path to directory where image can be stored\n",
    "    :return: String - Full directory path to locally stored image\n",
    "    \"\"\" \n",
    "    \n",
    "    # Use requests module to retrieve the page\n",
    "    page = requests.get(images_webpage_url)\n",
    "    # Use beautifulsoup module to scrape content\n",
    "    soup = BeautifulSoup(page.content)\n",
    "    # Build list of links\n",
    "    links = []\n",
    "    for link in soup.findAll('a'):\n",
    "        if link.get('href') != \"/openimage/bravescam/\":\n",
    "            links.append(link.get('href'))      \n",
    "    # Retrieve latest image\n",
    "    latest_image_url = \"{0}{1}\".format(\"https://www.cobbgis.org\", links[-1])\n",
    "    # Write image locally to workspace\n",
    "    latest_image_path = \"{0}\\\\temp_latest_image.jpg\".format(workspace)\n",
    "    with open(latest_image_path, 'wb') as handle:\n",
    "        response = requests.get(latest_image_url, stream=True)\n",
    "        if not response.ok:\n",
    "            print(response)\n",
    "        for block in response.iter_content(1024):\n",
    "            if not block:\n",
    "                break\n",
    "            handle.write(block)\n",
    "    if os.path.isfile(latest_image_path):           \n",
    "        return latest_image_path, latest_image_url\n",
    "    else:\n",
    "        return None"
   ]
  },
  {
   "cell_type": "code",
   "execution_count": null,
   "metadata": {},
   "outputs": [],
   "source": [
    "# Test function\n",
    "get_latest_snapshot(cam_urls[0], workspace_dir)"
   ]
  },
  {
   "cell_type": "markdown",
   "metadata": {},
   "source": [
    "## 2b. Classify Image"
   ]
  },
  {
   "cell_type": "code",
   "execution_count": null,
   "metadata": {
    "collapsed": true
   },
   "outputs": [],
   "source": [
    "def classify_image(image, classifier_id, threshold_val='0.15', display_image=False):\n",
    "    \"\"\"\n",
    "    Pass a locally stored image to a Watson classifier and return the classification results\n",
    "    :param image: String - Full path to locally stored image\n",
    "    :param classifier_id: String - Classifier ID\n",
    "    :param threshold_val: String - Numeric value in string format that establishes which classes are returned\n",
    "    :return: JSON - classes determined by Watson classifier\n",
    "    \"\"\" \n",
    "    if display_image:\n",
    "        display(Image(image))\n",
    "    with open(image, 'rb') as images_file:\n",
    "        classes = visual_recognition.classify(\n",
    "            images_file,\n",
    "            threshold=threshold_val,\n",
    "            classifier_ids=classifier_id)\n",
    "        output_class = classes['images'][0]['classifiers'][0]['classes'][0]['class']\n",
    "    return output_class"
   ]
  },
  {
   "cell_type": "code",
   "execution_count": null,
   "metadata": {},
   "outputs": [],
   "source": [
    "# Test function\n",
    "test_image, test_image_url = get_latest_snapshot(cam_urls[0], workspace_dir)\n",
    "Image(test_image)\n",
    "test_label = classify_image(test_image, model_128_id, display_image=True)\n",
    "test_label"
   ]
  },
  {
   "cell_type": "markdown",
   "metadata": {},
   "source": [
    "## 2c. Update hosted service feature"
   ]
  },
  {
   "cell_type": "code",
   "execution_count": null,
   "metadata": {
    "collapsed": true
   },
   "outputs": [],
   "source": [
    "def update_hosted_service_feature(source_label, source_camera_id, source_image_url, source_image_localpath,\n",
    "                                  target_service, target_label_field, target_camera_id_field, target_source_image_field,\n",
    "                                  overwrite_attachment=True, layer_index=0):\n",
    "    \n",
    "    # Convert our existing service into a pandas dataframe\n",
    "    target_lyr = target_service.layers[layer_index]   \n",
    "    target_fset = target_lyr.query(where=\"\"\"camera_id = '\"\"\"+source_camera_id+\"\"\"'\"\"\", return_geometry=False)  \n",
    "    all_features = target_fset.features\n",
    "    original_feature = all_features[0]\n",
    "    feature_to_be_updated = deepcopy(original_feature)\n",
    "    \n",
    "    features_for_update = []\n",
    "    feature_to_be_updated.attributes[target_label_field] = source_label.capitalize()  # Use capitalize due to domain\n",
    "    feature_to_be_updated.attributes[target_source_image_field] = source_image_url\n",
    "    \n",
    "    # Store attribute updates and send edit request\n",
    "    features_for_update.append(feature_to_be_updated)\n",
    "    object_point_lyr.edit_features(updates=features_for_update) \n",
    "    \n",
    "    # Perform attachment of detected image\n",
    "    obj_id = feature_to_be_updated.attributes['OBJECTID']\n",
    "    \n",
    "    if overwrite_attachment:\n",
    "        for attachment in object_point_lyr.attachments.get_list(obj_id):\n",
    "            object_point_lyr.attachments.delete(obj_id, attachment['id'])\n",
    "\n",
    "    object_point_lyr.attachments.add(obj_id, source_image_localpath)"
   ]
  },
  {
   "cell_type": "code",
   "execution_count": null,
   "metadata": {},
   "outputs": [],
   "source": [
    "# Test Function\n",
    "test_image, test_image_url = get_latest_snapshot(cam_urls[0], workspace_dir)\n",
    "Image(test_image)\n",
    "test_label = classify_image(test_image, model_128_id, display_image=True)\n",
    "update_hosted_service_feature(test_label, \"128\", test_image_url, test_image, object_point_srvc, \"pedestrian_density\", \"camera_id\", \"source_image\")"
   ]
  },
  {
   "cell_type": "markdown",
   "metadata": {},
   "source": [
    "## 2d. Add hosted service feature"
   ]
  },
  {
   "cell_type": "code",
   "execution_count": null,
   "metadata": {
    "collapsed": true
   },
   "outputs": [],
   "source": [
    "# TODO\n",
    "def add_hosted_service_feature(source_label, source_camera_id, source_image_url, source_image_localpath,\n",
    "                               target_service, target_label_field, target_camera_id_field, target_source_image_field,\n",
    "                               overwrite_attachment=True, layer_index=0):\n",
    "    \n",
    "    # Convert our existing service into a pandas dataframe\n",
    "    target_lyr = target_service.layers[layer_index]   \n",
    "    target_fset = target_lyr.query(where=\"\"\"camera_id = '\"\"\"+source_camera_id+\"\"\"'\"\"\", return_geometry=False)  \n",
    "    all_features = target_fset.features\n",
    "    original_feature = all_features[0]\n",
    "    \n",
    "    features_to_be_added = []\n",
    "    new_feature = deepcopy(original_feature)\n",
    "    new_feature.attributes[target_label_field] = source_label.capitalize()  # Use capitalize due to domain\n",
    "    new_feature.attributes[target_source_image_field] = source_image_url\n",
    "    new_feature.attributes['recording_id'] = \"Cam{0}_{1}\".format(str(source_camera_id),\n",
    "                                                                 str(datetime.now().strftime(\"%m%d%y_%H%M%S\")))\n",
    "    new_feature.attributes['classification_time'] = datetime.now().strftime(\"%m/%d/%y %H:%M:%S\")    \n",
    "    \n",
    "    #add this to the list of features to be updated\n",
    "    features_to_be_added.append(new_feature)\n",
    "    object_point_lyr.edit_features(adds = features_to_be_added) \n",
    "    \n",
    "    # TODO Add attachments to new features\n",
    "#     obj_id = new_feature.attributes['OBJECTID']\n",
    "#     object_point_lyr.attachments.add(obj_id, source_image_localpath)"
   ]
  },
  {
   "cell_type": "code",
   "execution_count": null,
   "metadata": {},
   "outputs": [],
   "source": [
    "# Test Function\n",
    "test_image, test_image_url = get_latest_snapshot(cam_urls[0], workspace_dir)\n",
    "Image(test_image)\n",
    "test_label = classify_image(test_image, model_128_id, display_image=True)\n",
    "add_hosted_service_feature(test_label, \"128\", test_image_url, test_image, object_point_srvc, \"pedestrian_density\", \"camera_id\", \"source_image\")"
   ]
  },
  {
   "cell_type": "markdown",
   "metadata": {},
   "source": [
    "# 2e. Iteration Helper (i.e. main)"
   ]
  },
  {
   "cell_type": "code",
   "execution_count": null,
   "metadata": {},
   "outputs": [],
   "source": [
    "def classify_and_for_time_period(camera_urls_list, time_duration, time_stride,\n",
    "                                 images_webpage_url, workspace,\n",
    "                                 camera_to_model_dict,\n",
    "                                 target_service, target_label_field, target_camera_id_field, target_source_image_field,    \n",
    "                                 threshold_val='0.15', display_image=False, overwrite_attachment=True, layer_index=0, \n",
    "                                 edit=\"update\", verbose=False):\n",
    "    \n",
    "    end_time = datetime.now() + timedelta(seconds=time_duration)\n",
    "    while datetime.now() < end_time:\n",
    "        print(\"\\n>>>>Performing Classification sweep at {0}<<<<\".format(datetime.now()))\n",
    "        \n",
    "        # Iterate on each camera\n",
    "        for cam_url in camera_urls_list:\n",
    "            camera_id = cam_url[-3:]\n",
    "            \n",
    "            print(\"\\nClassifying current pedestrian activity for camera {0}...\".format(str(camera_id)))\n",
    "            classifier_id = cameraid_model_dict[camera_id]\n",
    "            if verbose:\n",
    "                print(\"\\tApplying model {0}...\".format(classifier_id))\n",
    "            if verbose:\n",
    "                print(\"\\tRetrieving snapshot...\")\n",
    "            image, image_url = get_latest_snapshot(cam_url, workspace)\n",
    "            if verbose:\n",
    "                print(\"\\tClassifying snapshot...\")\n",
    "            label = classify_image(image, classifier_id, display_image=False)\n",
    "\n",
    "            if edit == \"update\":\n",
    "                if verbose:\n",
    "                    print(\"\\tUpdating feature...\")\n",
    "                update_hosted_service_feature(label, camera_id, image_url, image, object_point_srvc, \"pedestrian_density\", \"camera_id\", \"source_image\")\n",
    "            elif edit == \"add\":\n",
    "                if verbose:\n",
    "                    print(\"\\tAdding feature...\")\n",
    "                add_hosted_service_feature(label, camera_id, image_url, image, object_point_srvc, \"pedestrian_density\", \"camera_id\", \"source_image\")\n",
    "                \n",
    "        # Add time_stride pause\n",
    "        time.sleep(time_stride)"
   ]
  },
  {
   "cell_type": "code",
   "execution_count": null,
   "metadata": {},
   "outputs": [],
   "source": [
    "# Test main function\n",
    "camera_urls_list = cam_urls\n",
    "time_duration = 60\n",
    "time_stride = 10\n",
    "\n",
    "images_webpage_url = images_url\n",
    "workspace = workspace_dir\n",
    "camera_to_model_dict = cameraid_model_dict\n",
    "\n",
    "target_service = object_point_srvc\n",
    "target_label_field = label_attribute_name\n",
    "target_camera_id_field = camera_id_attribute_name\n",
    "target_source_image_field = source_image_attribute_name\n",
    "\n",
    "classify_and_for_time_period(camera_urls_list, time_duration, time_stride,\n",
    "                             images_webpage_url, workspace,\n",
    "                             camera_to_model_dict,\n",
    "                             target_service, target_label_field, target_camera_id_field, target_source_image_field,    \n",
    "                             threshold_val='0.15', display_image=False, overwrite_attachment=True, layer_index=0, \n",
    "                             edit=\"update\", verbose=True)"
   ]
  },
  {
   "cell_type": "markdown",
   "metadata": {},
   "source": [
    "# 3. Real-time Classification"
   ]
  },
  {
   "cell_type": "markdown",
   "metadata": {},
   "source": [
    "## Enter duration of run in seconds"
   ]
  },
  {
   "cell_type": "code",
   "execution_count": null,
   "metadata": {
    "collapsed": true
   },
   "outputs": [],
   "source": [
    "time_duration = 300    # five minutes\n",
    "# time_duration = 3600   # One hour\n",
    "# time_duration = 18000   # Six hours"
   ]
  },
  {
   "cell_type": "code",
   "execution_count": null,
   "metadata": {},
   "outputs": [],
   "source": [
    "camera_urls_list = cam_urls\n",
    "time_stride = 10\n",
    "\n",
    "images_webpage_url = images_url\n",
    "workspace = workspace_dir\n",
    "camera_to_model_dict = cameraid_model_dict\n",
    "\n",
    "target_service = object_point_srvc\n",
    "target_label_field = label_attribute_name\n",
    "target_camera_id_field = camera_id_attribute_name\n",
    "target_source_image_field = source_image_attribute_name\n",
    "\n",
    "threshold_val = '0.15'\n",
    "display_image = False\n",
    "overwrite_attachment = True\n",
    "layer_index = 0\n",
    "edit = \"update\"\n",
    "verbose = True\n",
    "\n",
    "classify_and_for_time_period(camera_urls_list, time_duration, time_stride,\n",
    "                             images_webpage_url, workspace,\n",
    "                             camera_to_model_dict,\n",
    "                             target_service, target_label_field, target_camera_id_field, target_source_image_field,    \n",
    "                             threshold_val=threshold_val, display_image=display_image, \n",
    "                             overwrite_attachment=overwrite_attachment, layer_index=layer_index, \n",
    "                             edit=edit, verbose=verbose)"
   ]
  }
 ],
 "metadata": {
  "kernelspec": {
   "display_name": "Python 3",
   "language": "python",
   "name": "python3"
  },
  "language_info": {
   "codemirror_mode": {
    "name": "ipython",
    "version": 3
   },
   "file_extension": ".py",
   "mimetype": "text/x-python",
   "name": "python",
   "nbconvert_exporter": "python",
   "pygments_lexer": "ipython3",
   "version": "3.6.3"
  }
 },
 "nbformat": 4,
 "nbformat_minor": 2
}
