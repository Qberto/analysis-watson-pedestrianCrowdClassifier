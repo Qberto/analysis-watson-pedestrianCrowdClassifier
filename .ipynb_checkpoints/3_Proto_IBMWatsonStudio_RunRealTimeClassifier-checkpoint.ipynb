{
 "cells": [
  {
   "cell_type": "markdown",
   "metadata": {},
   "source": [
    "# Run Watson Classifiers in Real-time Configuration\n",
    "\n",
    "###### Author: Alberto Nieto\n",
    "###### Organization: Esri\n",
    "###### Date: June, 2017"
   ]
  },
  {
   "cell_type": "markdown",
   "metadata": {},
   "source": [
    "# Pseudocode"
   ]
  },
  {
   "cell_type": "markdown",
   "metadata": {},
   "source": [
    "Goal: To run classification on the real-time snapshots provided by Cobb County, storing the outputs on a hosted service. \n",
    "\n",
    "Procedure:\n",
    "\n",
    "1. Routine Setup\n",
    "\n",
    "    1a. Authentication\n",
    "        - IBM Watson\n",
    "        - ArcGIS Online\n",
    "    \n",
    "    1b. Retrieve Models\n",
    "    \n",
    "    1c. Retrieve input images location\n",
    "    \n",
    "    1d. Retrieve target hosted service\n",
    "    \n",
    "2. Set Helper Functions\n",
    "\n",
    "    2a. Get latest snapshot \n",
    "    \n",
    "    2b. Classify Image\n",
    "    \n",
    "    2c. Update hosted service feature\n",
    "    \n",
    "    2d. Add hosted service feature\n",
    "     \n",
    "3. Iteration\n",
    "\n",
    "    For each camera:\n",
    "    \n",
    "        3a. Get latest snapshot\n",
    "\n",
    "        3b. Classify image\n",
    "        \n",
    "        3c. Update/Add feature to service"
   ]
  },
  {
   "cell_type": "markdown",
   "metadata": {},
   "source": [
    "# 1. Routine Setup"
   ]
  },
  {
   "cell_type": "markdown",
   "metadata": {},
   "source": [
    "Imported modules"
   ]
  },
  {
   "cell_type": "code",
   "execution_count": null,
   "metadata": {
    "collapsed": true
   },
   "outputs": [],
   "source": [
    "import os\n",
    "from watson_developer_cloud import VisualRecognitionV3\n",
    "import arcgis\n",
    "import pandas as pd\n",
    "from copy import deepcopy\n",
    "import requests\n",
    "from bs4 import BeautifulSoup\n",
    "import json\n",
    "from IPython.display import Image, display\n",
    "from IPython.core.display import HTML "
   ]
  },
  {
   "cell_type": "markdown",
   "metadata": {},
   "source": [
    "workspace"
   ]
  },
  {
   "cell_type": "code",
   "execution_count": null,
   "metadata": {},
   "outputs": [],
   "source": [
    "workspace_dir = os.getcwd()+\"\\\\Temp\""
   ]
  },
  {
   "cell_type": "markdown",
   "metadata": {},
   "source": [
    "## IBM Watson Authentication"
   ]
  },
  {
   "cell_type": "code",
   "execution_count": null,
   "metadata": {
    "collapsed": true
   },
   "outputs": [],
   "source": [
    "visual_recognition = VisualRecognitionV3(\n",
    "    '2018-03-19',\n",
    "    iam_api_key=os.environ['BLUEMIX_API_KEY'])"
   ]
  },
  {
   "cell_type": "markdown",
   "metadata": {},
   "source": [
    "## ArcGIS Authentication"
   ]
  },
  {
   "cell_type": "code",
   "execution_count": null,
   "metadata": {},
   "outputs": [],
   "source": [
    "gis = arcgis.gis.GIS(os.environ['ESRIFEDERAL_URL'], username=\"Anieto_esrifederal\")"
   ]
  },
  {
   "cell_type": "markdown",
   "metadata": {},
   "source": [
    "## 1b. Retrieve Models"
   ]
  },
  {
   "cell_type": "code",
   "execution_count": null,
   "metadata": {},
   "outputs": [],
   "source": [
    "models_dict = visual_recognition.list_classifiers(verbose=True); models_dict"
   ]
  },
  {
   "cell_type": "code",
   "execution_count": null,
   "metadata": {},
   "outputs": [],
   "source": [
    "models_df = pd.DataFrame.from_dict(models_dict['classifiers']); models_df"
   ]
  },
  {
   "cell_type": "code",
   "execution_count": null,
   "metadata": {
    "collapsed": true
   },
   "outputs": [],
   "source": [
    "model_128_name = 'Esri_Classification_CobbCounty_Cam128'\n",
    "model_129_name = 'Esri_Classification_CobbCounty_Cam129'\n",
    "model_130_name = 'Esri_Classification_CobbCounty_Cam130'"
   ]
  },
  {
   "cell_type": "code",
   "execution_count": null,
   "metadata": {},
   "outputs": [],
   "source": [
    "model_128_id = models_df.loc[models_df['name'] == model_128_name, 'classifier_id'].values[0]\n",
    "model_129_id = models_df.loc[models_df['name'] == model_129_name, 'classifier_id'].values[0]\n",
    "model_130_id = models_df.loc[models_df['name'] == model_130_name, 'classifier_id'].values[0]"
   ]
  },
  {
   "cell_type": "markdown",
   "metadata": {},
   "source": [
    "## 1c. Retrieve input images location"
   ]
  },
  {
   "cell_type": "code",
   "execution_count": null,
   "metadata": {},
   "outputs": [],
   "source": [
    "images_url = r\"https://www.cobbgis.org/openimage/bravescam\"\n",
    "cams = [\"128\", \"129\", \"130\"]\n",
    "cam_urls = [\"{0}/Cam{1}\".format(images_url, cam) for cam in cams]; cam_urls"
   ]
  },
  {
   "cell_type": "markdown",
   "metadata": {},
   "source": [
    "## 1d. Retrieve target hosted service"
   ]
  },
  {
   "cell_type": "code",
   "execution_count": null,
   "metadata": {},
   "outputs": [],
   "source": [
    "target_service_name = \"SunTrustPark_TrafficCameras_T01\"\n",
    "object_point_srvc = gis.content.search(target_service_name, item_type=\"Feature Layer\")[1]\n",
    "object_point_srvc"
   ]
  },
  {
   "cell_type": "code",
   "execution_count": null,
   "metadata": {
    "scrolled": true
   },
   "outputs": [],
   "source": [
    "# Convert our existing service into a pandas dataframe\n",
    "object_point_lyr = object_point_srvc.layers[0]\n",
    "obj_fset = object_point_lyr.query()  #querying without any conditions returns all the features\n",
    "obj_df = obj_fset.df\n",
    "obj_df.head()"
   ]
  },
  {
   "cell_type": "code",
   "execution_count": null,
   "metadata": {},
   "outputs": [],
   "source": [
    "all_features = obj_fset.features\n",
    "all_features"
   ]
  },
  {
   "cell_type": "code",
   "execution_count": null,
   "metadata": {},
   "outputs": [],
   "source": [
    "original_feature = all_features[0]\n",
    "feature_to_be_updated = deepcopy(original_feature)\n",
    "feature_to_be_updated"
   ]
  },
  {
   "cell_type": "markdown",
   "metadata": {},
   "source": [
    "# 2. Set Helper Functions"
   ]
  },
  {
   "cell_type": "markdown",
   "metadata": {},
   "source": [
    "## 2a. Get Latest Snapshot"
   ]
  },
  {
   "cell_type": "code",
   "execution_count": null,
   "metadata": {
    "collapsed": true
   },
   "outputs": [],
   "source": [
    "def get_latest_snapshot(images_webpage_url, workspace):\n",
    "    \n",
    "    \"\"\"\n",
    "    Retrieve the latest image from the Cobb County SunTrust Park images repository, store locally, and return path\n",
    "    :param images_webpage_url: String - Full path to HTTPS url for SunTrust Park images repository\n",
    "    :param workspace: String - Full path to directory where image can be stored\n",
    "    :return: String - Full directory path to locally stored image\n",
    "    \"\"\" \n",
    "    \n",
    "    # Use requests module to retrieve the page\n",
    "    page = requests.get(images_webpage_url)\n",
    "    # Use beautifulsoup module to scrape content\n",
    "    soup = BeautifulSoup(page.content, \"lmxl\")\n",
    "    # Build list of links\n",
    "    links = []\n",
    "    for link in soup.findAll('a'):\n",
    "        if link.get('href') != \"/openimage/bravescam/\":\n",
    "            links.append(link.get('href'))      \n",
    "    # Retrieve latest image\n",
    "    latest_image_url = \"{0}{1}\".format(\"https://www.cobbgis.org\", links[-1])\n",
    "    # Write image locally to workspace\n",
    "    latest_image_path = \"{0}\\\\temp_latest_image.jpg\".format(workspace)\n",
    "    with open(latest_image_path, 'wb') as handle:\n",
    "        response = requests.get(latest_image_url, stream=True)\n",
    "        if not response.ok:\n",
    "            print(response)\n",
    "        for block in response.iter_content(1024):\n",
    "            if not block:\n",
    "                break\n",
    "            handle.write(block)\n",
    "    if os.path.isfile(latest_image_path):           \n",
    "        return latest_image_path\n",
    "    else:\n",
    "        return None"
   ]
  },
  {
   "cell_type": "code",
   "execution_count": null,
   "metadata": {},
   "outputs": [],
   "source": [
    "# Test function\n",
    "get_latest_snapshot(cam_urls[0], workspace_dir)"
   ]
  },
  {
   "cell_type": "markdown",
   "metadata": {},
   "source": [
    "## 2b. Classify Image"
   ]
  },
  {
   "cell_type": "code",
   "execution_count": null,
   "metadata": {},
   "outputs": [],
   "source": [
    "def classify_image(image, classifier_id, threshold_val='0.15', display_image=False):\n",
    "    \"\"\"\n",
    "    Pass a locally stored image to a Watson classifier and return the classification results\n",
    "    :param image: String - Full path to locally stored image\n",
    "    :param classifier_id: String - Classifier ID\n",
    "    :param threshold_val: String - Numeric value in string format that establishes which classes are returned\n",
    "    :return: JSON - classes determined by Watson classifier\n",
    "    \"\"\" \n",
    "    if display_image:\n",
    "        display(Image(image))\n",
    "    with open(image, 'rb') as images_file:\n",
    "        classes = visual_recognition.classify(\n",
    "            images_file,\n",
    "            threshold=threshold_val,\n",
    "            classifier_ids=classifier_id)\n",
    "        output_class = classes['images'][0]['classifiers'][0]['classes'][0]['class']\n",
    "    return output_class"
   ]
  },
  {
   "cell_type": "code",
   "execution_count": null,
   "metadata": {},
   "outputs": [],
   "source": [
    "# Test function\n",
    "test_image = get_latest_snapshot(cam_urls[0], workspace_dir)\n",
    "Image(test_image)\n",
    "test_label = classify_image(test_image, model_128_id, display_image=True)\n",
    "test_label"
   ]
  },
  {
   "cell_type": "markdown",
   "metadata": {},
   "source": [
    "## 2c. Update hosted service feature"
   ]
  },
  {
   "cell_type": "code",
   "execution_count": null,
   "metadata": {
    "collapsed": true
   },
   "outputs": [],
   "source": [
    "def update_hosted_service_feature():\n",
    "    return None"
   ]
  },
  {
   "cell_type": "markdown",
   "metadata": {},
   "source": [
    "## 2d. Add hosted service feature"
   ]
  },
  {
   "cell_type": "code",
   "execution_count": null,
   "metadata": {
    "collapsed": true
   },
   "outputs": [],
   "source": [
    "def add_hosted_service_feature():\n",
    "    return None"
   ]
  },
  {
   "cell_type": "markdown",
   "metadata": {},
   "source": [
    "## 2a. Get Latest Snapshot"
   ]
  },
  {
   "cell_type": "code",
   "execution_count": null,
   "metadata": {
    "collapsed": true
   },
   "outputs": [],
   "source": [
    "def get_latest_snapshot():\n",
    "    return None"
   ]
  }
 ],
 "metadata": {
  "kernelspec": {
   "display_name": "Python 3",
   "language": "python",
   "name": "python3"
  },
  "language_info": {
   "codemirror_mode": {
    "name": "ipython",
    "version": 3
   },
   "file_extension": ".py",
   "mimetype": "text/x-python",
   "name": "python",
   "nbconvert_exporter": "python",
   "pygments_lexer": "ipython3",
   "version": "3.6.3"
  }
 },
 "nbformat": 4,
 "nbformat_minor": 2
}
