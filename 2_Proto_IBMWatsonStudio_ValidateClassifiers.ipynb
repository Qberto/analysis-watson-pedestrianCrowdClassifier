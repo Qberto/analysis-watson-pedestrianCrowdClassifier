{
 "cells": [
  {
   "cell_type": "markdown",
   "metadata": {},
   "source": [
    "# Run Watson Classifiers in Real-time Configuration\n",
    "\n",
    "###### Author: Alberto Nieto\n",
    "###### Organization: Esri\n",
    "###### Date: June, 2017"
   ]
  },
  {
   "cell_type": "markdown",
   "metadata": {},
   "source": [
    "# Pseudocode"
   ]
  },
  {
   "cell_type": "markdown",
   "metadata": {},
   "source": [
    "Goal: To run validation routines on the classification pipeline. \n",
    "\n",
    "Procedure:\n",
    "1. Authenticate\n",
    "2. Retrieve Models\n",
    "3. Prepare Unittest data - Images with known Labels\n",
    "4. Classify and record output results\n",
    "5. Build confusion matrix \n",
    "6. Create classification diagnostics"
   ]
  },
  {
   "cell_type": "markdown",
   "metadata": {},
   "source": [
    "# 1. Routine Setup"
   ]
  },
  {
   "cell_type": "markdown",
   "metadata": {},
   "source": [
    "Imported modules"
   ]
  },
  {
   "cell_type": "code",
   "execution_count": null,
   "metadata": {
    "collapsed": true
   },
   "outputs": [],
   "source": [
    "import os\n",
    "from watson_developer_cloud import VisualRecognitionV3\n",
    "import arcgis\n",
    "import pandas as pd\n",
    "from copy import deepcopy\n",
    "import requests\n",
    "from bs4 import BeautifulSoup\n",
    "import json\n",
    "from IPython.display import Image, display\n",
    "from IPython.core.display import HTML \n",
    "import scipy.misc\n",
    "from datetime import datetime, timedelta\n",
    "import time"
   ]
  },
  {
   "cell_type": "markdown",
   "metadata": {},
   "source": [
    "workspace"
   ]
  },
  {
   "cell_type": "code",
   "execution_count": null,
   "metadata": {
    "collapsed": true
   },
   "outputs": [],
   "source": [
    "workspace_dir = os.getcwd()+\"\\\\Temp\""
   ]
  },
  {
   "cell_type": "markdown",
   "metadata": {},
   "source": [
    "## IBM Watson Authentication"
   ]
  },
  {
   "cell_type": "code",
   "execution_count": null,
   "metadata": {
    "collapsed": true
   },
   "outputs": [],
   "source": [
    "visual_recognition = VisualRecognitionV3(\n",
    "    '2018-03-19',\n",
    "    iam_api_key=os.environ['BLUEMIX_API_KEY'])"
   ]
  },
  {
   "cell_type": "markdown",
   "metadata": {},
   "source": [
    "## 1b. Retrieve Models"
   ]
  },
  {
   "cell_type": "code",
   "execution_count": null,
   "metadata": {
    "collapsed": true
   },
   "outputs": [],
   "source": [
    "models_dict = visual_recognition.list_classifiers(verbose=True); models_dict"
   ]
  },
  {
   "cell_type": "code",
   "execution_count": null,
   "metadata": {
    "collapsed": true
   },
   "outputs": [],
   "source": [
    "models_df = pd.DataFrame.from_dict(models_dict['classifiers']); models_df"
   ]
  },
  {
   "cell_type": "code",
   "execution_count": null,
   "metadata": {
    "collapsed": true
   },
   "outputs": [],
   "source": [
    "model_128_name = 'Esri_Classification_CobbCounty_Cam128'\n",
    "model_129_name = 'Esri_Classification_CobbCounty_Cam129'\n",
    "model_130_name = 'Esri_Classification_CobbCounty_Cam130'"
   ]
  },
  {
   "cell_type": "code",
   "execution_count": null,
   "metadata": {
    "collapsed": true
   },
   "outputs": [],
   "source": [
    "model_128_id = models_df.loc[models_df['name'] == model_128_name, 'classifier_id'].values[0]\n",
    "model_129_id = models_df.loc[models_df['name'] == model_129_name, 'classifier_id'].values[0]\n",
    "model_130_id = models_df.loc[models_df['name'] == model_130_name, 'classifier_id'].values[0]"
   ]
  },
  {
   "cell_type": "code",
   "execution_count": null,
   "metadata": {
    "collapsed": true
   },
   "outputs": [],
   "source": [
    "cameraid_model_dict = {\n",
    "    \"128\": model_128_id,\n",
    "    \"129\": model_129_id,\n",
    "    \"130\": model_130_id\n",
    "}"
   ]
  },
  {
   "cell_type": "markdown",
   "metadata": {},
   "source": [
    "## 1c. Retrieve input images location"
   ]
  },
  {
   "cell_type": "code",
   "execution_count": null,
   "metadata": {
    "collapsed": true
   },
   "outputs": [],
   "source": [
    "images_url = r\"https://www.cobbgis.org/openimage/bravescam\"\n",
    "cams = [\"128\", \"129\", \"130\"]\n",
    "cam_urls = [\"{0}/Cam{1}\".format(images_url, cam) for cam in cams]; cam_urls"
   ]
  },
  {
   "cell_type": "markdown",
   "metadata": {},
   "source": [
    "# 2. Set Helper Functions"
   ]
  },
  {
   "cell_type": "markdown",
   "metadata": {},
   "source": [
    "## 2b. Classify Image"
   ]
  },
  {
   "cell_type": "code",
   "execution_count": null,
   "metadata": {
    "collapsed": true
   },
   "outputs": [],
   "source": [
    "def classify_image(image, classifier_id, threshold_val='0.15', display_image=False):\n",
    "    \"\"\"\n",
    "    Pass a locally stored image to a Watson classifier and return the classification results\n",
    "    :param image: String - Full path to locally stored image\n",
    "    :param classifier_id: String - Classifier ID\n",
    "    :param threshold_val: String - Numeric value in string format that establishes which classes are returned\n",
    "    :return: JSON - classes determined by Watson classifier\n",
    "    \"\"\" \n",
    "    if display_image:\n",
    "        display(Image(image))\n",
    "    with open(image, 'rb') as images_file:\n",
    "        classes = visual_recognition.classify(\n",
    "            images_file,\n",
    "            threshold=threshold_val,\n",
    "            classifier_ids=classifier_id)\n",
    "        output_class = classes['images'][0]['classifiers'][0]['classes'][0]['class']\n",
    "    return output_class"
   ]
  },
  {
   "cell_type": "code",
   "execution_count": null,
   "metadata": {
    "collapsed": true
   },
   "outputs": [],
   "source": [
    "# Test function\n",
    "test_image, test_image_url = get_latest_snapshot(cam_urls[0], workspace_dir)\n",
    "Image(test_image)\n",
    "test_label = classify_image(test_image, model_128_id, display_image=True)\n",
    "test_label"
   ]
  },
  {
   "cell_type": "markdown",
   "metadata": {},
   "source": [
    "# 2e. Iteration Helper (i.e. main)"
   ]
  },
  {
   "cell_type": "code",
   "execution_count": null,
   "metadata": {
    "collapsed": true
   },
   "outputs": [],
   "source": [
    "def classify_and_for_time_period(camera_urls_list, time_duration, time_stride,\n",
    "                                 images_webpage_url, workspace,\n",
    "                                 camera_to_model_dict,\n",
    "                                 target_service, target_label_field, target_camera_id_field, target_source_image_field,    \n",
    "                                 threshold_val='0.15', display_image=False, overwrite_attachment=True, layer_index=0, \n",
    "                                 edit=\"update\", verbose=False):\n",
    "    \n",
    "    end_time = datetime.now() + timedelta(seconds=time_duration)\n",
    "    while datetime.now() < end_time:\n",
    "        print(\"\\n>>>>Performing Classification sweep at {0}<<<<\".format(datetime.now()))\n",
    "        \n",
    "        # Iterate on each camera\n",
    "        for cam_url in camera_urls_list:\n",
    "            camera_id = cam_url[-3:]\n",
    "            \n",
    "            print(\"\\nClassifying current pedestrian activity for camera {0}...\".format(str(camera_id)))\n",
    "            classifier_id = cameraid_model_dict[camera_id]\n",
    "            if verbose:\n",
    "                print(\"\\tApplying model {0}...\".format(classifier_id))\n",
    "            if verbose:\n",
    "                print(\"\\tRetrieving snapshot...\")\n",
    "            image, image_url = get_latest_snapshot(cam_url, workspace)\n",
    "            if verbose:\n",
    "                print(\"\\tClassifying snapshot...\")\n",
    "            label = classify_image(image, classifier_id, display_image=False)\n",
    "\n",
    "            if edit == \"update\":\n",
    "                if verbose:\n",
    "                    print(\"\\tUpdating feature...\")\n",
    "                update_hosted_service_feature(label, camera_id, image_url, image, object_point_srvc, \"pedestrian_density\", \"camera_id\", \"source_image\")\n",
    "            elif edit == \"add\":\n",
    "                if verbose:\n",
    "                    print(\"\\tAdding feature...\")\n",
    "                add_hosted_service_feature(label, camera_id, image_url, image, object_point_srvc, \"pedestrian_density\", \"camera_id\", \"source_image\")\n",
    "                \n",
    "        # Add time_stride pause\n",
    "        time.sleep(time_stride)"
   ]
  },
  {
   "cell_type": "code",
   "execution_count": null,
   "metadata": {
    "collapsed": true
   },
   "outputs": [],
   "source": [
    "# Test main function\n",
    "camera_urls_list = cam_urls\n",
    "time_duration = 60\n",
    "time_stride = 10\n",
    "\n",
    "images_webpage_url = images_url\n",
    "workspace = workspace_dir\n",
    "camera_to_model_dict = cameraid_model_dict\n",
    "\n",
    "target_service = object_point_srvc\n",
    "target_label_field = label_attribute_name\n",
    "target_camera_id_field = camera_id_attribute_name\n",
    "target_source_image_field = source_image_attribute_name\n",
    "\n",
    "classify_and_for_time_period(camera_urls_list, time_duration, time_stride,\n",
    "                             images_webpage_url, workspace,\n",
    "                             camera_to_model_dict,\n",
    "                             target_service, target_label_field, target_camera_id_field, target_source_image_field,    \n",
    "                             threshold_val='0.15', display_image=False, overwrite_attachment=True, layer_index=0, \n",
    "                             edit=\"update\", verbose=True)"
   ]
  },
  {
   "cell_type": "markdown",
   "metadata": {},
   "source": [
    "# 3. Run Validation"
   ]
  },
  {
   "cell_type": "code",
   "execution_count": null,
   "metadata": {
    "collapsed": true
   },
   "outputs": [],
   "source": [
    "camera_urls_list = cam_urls\n",
    "time_stride = 10\n",
    "\n",
    "images_webpage_url = images_url\n",
    "workspace = workspace_dir\n",
    "camera_to_model_dict = cameraid_model_dict\n",
    "\n",
    "target_service = object_point_srvc\n",
    "target_label_field = label_attribute_name\n",
    "target_camera_id_field = camera_id_attribute_name\n",
    "target_source_image_field = source_image_attribute_name\n",
    "\n",
    "threshold_val = '0.15'\n",
    "display_image = False\n",
    "overwrite_attachment = True\n",
    "layer_index = 0\n",
    "edit = \"add\"\n",
    "verbose = True\n",
    "\n",
    "classify_and_for_time_period(camera_urls_list, time_duration, time_stride,\n",
    "                             images_webpage_url, workspace,\n",
    "                             camera_to_model_dict,\n",
    "                             target_service, target_label_field, target_camera_id_field, target_source_image_field,    \n",
    "                             threshold_val=threshold_val, display_image=display_image, \n",
    "                             overwrite_attachment=overwrite_attachment, layer_index=layer_index, \n",
    "                             edit=edit, verbose=verbose)"
   ]
  }
 ],
 "metadata": {
  "kernelspec": {
   "display_name": "Python 3",
   "language": "python",
   "name": "python3"
  },
  "language_info": {
   "codemirror_mode": {
    "name": "ipython",
    "version": 3
   },
   "file_extension": ".py",
   "mimetype": "text/x-python",
   "name": "python",
   "nbconvert_exporter": "python",
   "pygments_lexer": "ipython3",
   "version": "3.6.3"
  }
 },
 "nbformat": 4,
 "nbformat_minor": 2
}
